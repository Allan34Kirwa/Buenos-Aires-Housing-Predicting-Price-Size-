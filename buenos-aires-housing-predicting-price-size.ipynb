{
 "cells": [
  {
   "cell_type": "code",
   "execution_count": 1,
   "id": "bcbf255e",
   "metadata": {
    "_cell_guid": "b1076dfc-b9ad-4769-8c92-a6c4dae69d19",
    "_uuid": "8f2839f25d086af736a60e9eeb907d3b93b6e0e5",
    "execution": {
     "iopub.execute_input": "2024-02-09T10:13:21.369971Z",
     "iopub.status.busy": "2024-02-09T10:13:21.368481Z",
     "iopub.status.idle": "2024-02-09T10:13:23.838470Z",
     "shell.execute_reply": "2024-02-09T10:13:23.836872Z"
    },
    "papermill": {
     "duration": 2.490029,
     "end_time": "2024-02-09T10:13:23.841402",
     "exception": false,
     "start_time": "2024-02-09T10:13:21.351373",
     "status": "completed"
    },
    "tags": []
   },
   "outputs": [
    {
     "name": "stdout",
     "output_type": "stream",
     "text": [
      "/kaggle/input/buenos-aire-real-estate-1/buenos-aires-real-estate-1.csv\n"
     ]
    }
   ],
   "source": [
    "# This Python 3 environment comes with many helpful analytics libraries installed\n",
    "# It is defined by the kaggle/python Docker image: https://github.com/kaggle/docker-python\n",
    "# For example, here's several helpful packages to load\n",
    "import warnings\n",
    "\n",
    "import matplotlib.pyplot as plt\n",
    "import numpy as np # linear algebra\n",
    "import pandas as pd # data processing, CSV file I/O (e.g. pd.read_csv)\n",
    "from sklearn.linear_model import LinearRegression\n",
    "from sklearn.metrics import mean_absolute_error\n",
    "from sklearn.utils.validation import check_is_fitted\n",
    "\n",
    "warnings.simplefilter(action=\"ignore\", category=FutureWarning)\n",
    "\n",
    "# Input data files are available in the read-only \"../input/\" directory\n",
    "# For example, running this (by clicking run or pressing Shift+Enter) will list all files under the input directory\n",
    "\n",
    "import os\n",
    "for dirname, _, filenames in os.walk('/kaggle/input'):\n",
    "    for filename in filenames:\n",
    "        print(os.path.join(dirname, filename))\n",
    "\n",
    "# You can write up to 20GB to the current directory (/kaggle/working/) that gets preserved as output when you create a version using \"Save & Run All\" \n",
    "# You can also write temporary files to /kaggle/temp/, but they won't be saved outside of the current session"
   ]
  },
  {
   "cell_type": "markdown",
   "id": "e49dbe53",
   "metadata": {
    "papermill": {
     "duration": 0.01399,
     "end_time": "2024-02-09T10:13:23.870637",
     "exception": false,
     "start_time": "2024-02-09T10:13:23.856647",
     "status": "completed"
    },
    "tags": []
   },
   "source": [
    "**Project Based on Predicting House Prices based on Size in Buenos Aires**"
   ]
  },
  {
   "cell_type": "markdown",
   "id": "d24bdf7e",
   "metadata": {
    "papermill": {
     "duration": 0.013991,
     "end_time": "2024-02-09T10:13:23.899149",
     "exception": false,
     "start_time": "2024-02-09T10:13:23.885158",
     "status": "completed"
    },
    "tags": []
   },
   "source": [
    "In this project, you're working for a client who wants to create a model that can predict the price of apartments in the city of Buenos Aires — with a focus on apartments that cost less than $400,000 USD."
   ]
  },
  {
   "cell_type": "markdown",
   "id": "f50e239f",
   "metadata": {
    "papermill": {
     "duration": 0.015105,
     "end_time": "2024-02-09T10:13:23.928537",
     "exception": false,
     "start_time": "2024-02-09T10:13:23.913432",
     "status": "completed"
    },
    "tags": []
   },
   "source": [
    "I will have to import my data but first I will have to create a function named wrangle that takes a file path as an argument and returns a DataFrame"
   ]
  },
  {
   "cell_type": "code",
   "execution_count": 2,
   "id": "d8b0b612",
   "metadata": {
    "execution": {
     "iopub.execute_input": "2024-02-09T10:13:23.959115Z",
     "iopub.status.busy": "2024-02-09T10:13:23.958530Z",
     "iopub.status.idle": "2024-02-09T10:13:23.967860Z",
     "shell.execute_reply": "2024-02-09T10:13:23.966346Z"
    },
    "papermill": {
     "duration": 0.027609,
     "end_time": "2024-02-09T10:13:23.970390",
     "exception": false,
     "start_time": "2024-02-09T10:13:23.942781",
     "status": "completed"
    },
    "tags": []
   },
   "outputs": [],
   "source": [
    "# The function should be based on the three conditions\n",
    "# 1. predict the price of apartments\n",
    "# 2. In the city of Buenos Aires\n",
    "# 3. Specifically focusing on apartments < $ 400_000 USD\n",
    "def wrangle (filepath):\n",
    "    #Read CSV file into DataFrame\n",
    "    df = pd.read_csv(filepath)\n",
    "    \n",
    "    # Subset to properties in \"Capital Federal\"\n",
    "    mask_ba_cap_fed = df[\"place_with_parent_names\"].str.contains(\"Capital Federal\")\n",
    "    \n",
    "    # Subset to `apartments`\n",
    "    mask_apat = df[\"property_type\"] == \"apartment\"\n",
    "    \n",
    "    # Subset to properties where `price_aprox_usd < 400_000`\n",
    "    mask_price_usd = df[\"price_aprox_usd\"] < 400_000\n",
    "    \n",
    "    # Then combine the three conditions\n",
    "    df = df[mask_ba_cap_fed & mask_apat & mask_price_usd]\n",
    "    \n",
    "    # Remove Outliers from our data\n",
    "    df[\"surface_covered_in_m2\"].quantile([0.1, 0.9])\n",
    "    low, high = df[\"surface_covered_in_m2\"].quantile([0.1, 0.9])\n",
    "    mask_area = df[\"surface_covered_in_m2\"].between (low, high)\n",
    "    df = df[mask_area]\n",
    "    \n",
    "    return df"
   ]
  },
  {
   "cell_type": "code",
   "execution_count": 3,
   "id": "73db697c",
   "metadata": {
    "execution": {
     "iopub.execute_input": "2024-02-09T10:13:24.002729Z",
     "iopub.status.busy": "2024-02-09T10:13:24.002290Z",
     "iopub.status.idle": "2024-02-09T10:13:24.153171Z",
     "shell.execute_reply": "2024-02-09T10:13:24.152014Z"
    },
    "papermill": {
     "duration": 0.171013,
     "end_time": "2024-02-09T10:13:24.156326",
     "exception": false,
     "start_time": "2024-02-09T10:13:23.985313",
     "status": "completed"
    },
    "tags": []
   },
   "outputs": [
    {
     "name": "stdout",
     "output_type": "stream",
     "text": [
      "df shape: (1343, 16)\n"
     ]
    },
    {
     "data": {
      "text/html": [
       "<div>\n",
       "<style scoped>\n",
       "    .dataframe tbody tr th:only-of-type {\n",
       "        vertical-align: middle;\n",
       "    }\n",
       "\n",
       "    .dataframe tbody tr th {\n",
       "        vertical-align: top;\n",
       "    }\n",
       "\n",
       "    .dataframe thead th {\n",
       "        text-align: right;\n",
       "    }\n",
       "</style>\n",
       "<table border=\"1\" class=\"dataframe\">\n",
       "  <thead>\n",
       "    <tr style=\"text-align: right;\">\n",
       "      <th></th>\n",
       "      <th>operation</th>\n",
       "      <th>property_type</th>\n",
       "      <th>place_with_parent_names</th>\n",
       "      <th>lat-lon</th>\n",
       "      <th>price</th>\n",
       "      <th>currency</th>\n",
       "      <th>price_aprox_local_currency</th>\n",
       "      <th>price_aprox_usd</th>\n",
       "      <th>surface_total_in_m2</th>\n",
       "      <th>surface_covered_in_m2</th>\n",
       "      <th>price_usd_per_m2</th>\n",
       "      <th>price_per_m2</th>\n",
       "      <th>floor</th>\n",
       "      <th>rooms</th>\n",
       "      <th>expenses</th>\n",
       "      <th>properati_url</th>\n",
       "    </tr>\n",
       "  </thead>\n",
       "  <tbody>\n",
       "    <tr>\n",
       "      <th>4</th>\n",
       "      <td>sell</td>\n",
       "      <td>apartment</td>\n",
       "      <td>|Argentina|Capital Federal|Chacarita|</td>\n",
       "      <td>-34.5846508988,-58.4546932614</td>\n",
       "      <td>129000.0</td>\n",
       "      <td>USD</td>\n",
       "      <td>1955949.6</td>\n",
       "      <td>129000.0</td>\n",
       "      <td>76.0</td>\n",
       "      <td>70.0</td>\n",
       "      <td>1697.368421</td>\n",
       "      <td>1842.857143</td>\n",
       "      <td>NaN</td>\n",
       "      <td>NaN</td>\n",
       "      <td>NaN</td>\n",
       "      <td>http://chacarita.properati.com.ar/10qlv_venta_...</td>\n",
       "    </tr>\n",
       "    <tr>\n",
       "      <th>9</th>\n",
       "      <td>sell</td>\n",
       "      <td>apartment</td>\n",
       "      <td>|Argentina|Capital Federal|Villa Luro|</td>\n",
       "      <td>-34.6389789,-58.500115</td>\n",
       "      <td>87000.0</td>\n",
       "      <td>USD</td>\n",
       "      <td>1319128.8</td>\n",
       "      <td>87000.0</td>\n",
       "      <td>48.0</td>\n",
       "      <td>42.0</td>\n",
       "      <td>1812.500000</td>\n",
       "      <td>2071.428571</td>\n",
       "      <td>NaN</td>\n",
       "      <td>NaN</td>\n",
       "      <td>NaN</td>\n",
       "      <td>http://villa-luro.properati.com.ar/12m82_venta...</td>\n",
       "    </tr>\n",
       "    <tr>\n",
       "      <th>29</th>\n",
       "      <td>sell</td>\n",
       "      <td>apartment</td>\n",
       "      <td>|Argentina|Capital Federal|Caballito|</td>\n",
       "      <td>-34.615847,-58.459957</td>\n",
       "      <td>118000.0</td>\n",
       "      <td>USD</td>\n",
       "      <td>1789163.2</td>\n",
       "      <td>118000.0</td>\n",
       "      <td>NaN</td>\n",
       "      <td>54.0</td>\n",
       "      <td>NaN</td>\n",
       "      <td>2185.185185</td>\n",
       "      <td>NaN</td>\n",
       "      <td>2.0</td>\n",
       "      <td>NaN</td>\n",
       "      <td>http://caballito.properati.com.ar/11wqh_venta_...</td>\n",
       "    </tr>\n",
       "    <tr>\n",
       "      <th>40</th>\n",
       "      <td>sell</td>\n",
       "      <td>apartment</td>\n",
       "      <td>|Argentina|Capital Federal|Constitución|</td>\n",
       "      <td>-34.6252219,-58.3823825</td>\n",
       "      <td>57000.0</td>\n",
       "      <td>USD</td>\n",
       "      <td>864256.8</td>\n",
       "      <td>57000.0</td>\n",
       "      <td>42.0</td>\n",
       "      <td>42.0</td>\n",
       "      <td>1357.142857</td>\n",
       "      <td>1357.142857</td>\n",
       "      <td>5.0</td>\n",
       "      <td>2.0</td>\n",
       "      <td>364.0</td>\n",
       "      <td>http://constitucion.properati.com.ar/k2f0_vent...</td>\n",
       "    </tr>\n",
       "    <tr>\n",
       "      <th>41</th>\n",
       "      <td>sell</td>\n",
       "      <td>apartment</td>\n",
       "      <td>|Argentina|Capital Federal|Once|</td>\n",
       "      <td>-34.6106102,-58.4125107</td>\n",
       "      <td>90000.0</td>\n",
       "      <td>USD</td>\n",
       "      <td>1364616.0</td>\n",
       "      <td>90000.0</td>\n",
       "      <td>57.0</td>\n",
       "      <td>50.0</td>\n",
       "      <td>1578.947368</td>\n",
       "      <td>1800.000000</td>\n",
       "      <td>NaN</td>\n",
       "      <td>3.0</td>\n",
       "      <td>450.0</td>\n",
       "      <td>http://once.properati.com.ar/suwa_venta_depart...</td>\n",
       "    </tr>\n",
       "  </tbody>\n",
       "</table>\n",
       "</div>"
      ],
      "text/plain": [
       "   operation property_type                   place_with_parent_names  \\\n",
       "4       sell     apartment     |Argentina|Capital Federal|Chacarita|   \n",
       "9       sell     apartment    |Argentina|Capital Federal|Villa Luro|   \n",
       "29      sell     apartment     |Argentina|Capital Federal|Caballito|   \n",
       "40      sell     apartment  |Argentina|Capital Federal|Constitución|   \n",
       "41      sell     apartment          |Argentina|Capital Federal|Once|   \n",
       "\n",
       "                          lat-lon     price currency  \\\n",
       "4   -34.5846508988,-58.4546932614  129000.0      USD   \n",
       "9          -34.6389789,-58.500115   87000.0      USD   \n",
       "29          -34.615847,-58.459957  118000.0      USD   \n",
       "40        -34.6252219,-58.3823825   57000.0      USD   \n",
       "41        -34.6106102,-58.4125107   90000.0      USD   \n",
       "\n",
       "    price_aprox_local_currency  price_aprox_usd  surface_total_in_m2  \\\n",
       "4                    1955949.6         129000.0                 76.0   \n",
       "9                    1319128.8          87000.0                 48.0   \n",
       "29                   1789163.2         118000.0                  NaN   \n",
       "40                    864256.8          57000.0                 42.0   \n",
       "41                   1364616.0          90000.0                 57.0   \n",
       "\n",
       "    surface_covered_in_m2  price_usd_per_m2  price_per_m2  floor  rooms  \\\n",
       "4                    70.0       1697.368421   1842.857143    NaN    NaN   \n",
       "9                    42.0       1812.500000   2071.428571    NaN    NaN   \n",
       "29                   54.0               NaN   2185.185185    NaN    2.0   \n",
       "40                   42.0       1357.142857   1357.142857    5.0    2.0   \n",
       "41                   50.0       1578.947368   1800.000000    NaN    3.0   \n",
       "\n",
       "    expenses                                      properati_url  \n",
       "4        NaN  http://chacarita.properati.com.ar/10qlv_venta_...  \n",
       "9        NaN  http://villa-luro.properati.com.ar/12m82_venta...  \n",
       "29       NaN  http://caballito.properati.com.ar/11wqh_venta_...  \n",
       "40     364.0  http://constitucion.properati.com.ar/k2f0_vent...  \n",
       "41     450.0  http://once.properati.com.ar/suwa_venta_depart...  "
      ]
     },
     "execution_count": 3,
     "metadata": {},
     "output_type": "execute_result"
    }
   ],
   "source": [
    "# Load the dataset \n",
    "df = wrangle(\"/kaggle/input/buenos-aire-real-estate-1/buenos-aires-real-estate-1.csv\")\n",
    "print(\"df shape:\", df.shape)\n",
    "df.head()"
   ]
  },
  {
   "cell_type": "code",
   "execution_count": 4,
   "id": "c1e96cd0",
   "metadata": {
    "execution": {
     "iopub.execute_input": "2024-02-09T10:13:24.188400Z",
     "iopub.status.busy": "2024-02-09T10:13:24.187721Z",
     "iopub.status.idle": "2024-02-09T10:13:24.193435Z",
     "shell.execute_reply": "2024-02-09T10:13:24.192564Z"
    },
    "papermill": {
     "duration": 0.024382,
     "end_time": "2024-02-09T10:13:24.195783",
     "exception": false,
     "start_time": "2024-02-09T10:13:24.171401",
     "status": "completed"
    },
    "tags": []
   },
   "outputs": [],
   "source": [
    "# Check your work\n",
    "assert (\n",
    "    len(df) <= 8606\n",
    "), f\"`df` should have no more than 8606 observations, not {len(df)}.\""
   ]
  },
  {
   "cell_type": "markdown",
   "id": "fb64d2b6",
   "metadata": {
    "papermill": {
     "duration": 0.014502,
     "end_time": "2024-02-09T10:13:24.225156",
     "exception": false,
     "start_time": "2024-02-09T10:13:24.210654",
     "status": "completed"
    },
    "tags": []
   },
   "source": [
    " Add to my `wrangle` function so that the DataFrame it returns only includes apartments in Buenos Aires (`\"Capital Federal\"`) that cost less than $400,000 USD"
   ]
  },
  {
   "cell_type": "code",
   "execution_count": 5,
   "id": "c0f00a7a",
   "metadata": {
    "execution": {
     "iopub.execute_input": "2024-02-09T10:13:24.257135Z",
     "iopub.status.busy": "2024-02-09T10:13:24.256413Z",
     "iopub.status.idle": "2024-02-09T10:13:24.261624Z",
     "shell.execute_reply": "2024-02-09T10:13:24.260803Z"
    },
    "papermill": {
     "duration": 0.023976,
     "end_time": "2024-02-09T10:13:24.263985",
     "exception": false,
     "start_time": "2024-02-09T10:13:24.240009",
     "status": "completed"
    },
    "tags": []
   },
   "outputs": [],
   "source": [
    "# Check your work\n",
    "assert (\n",
    "    len(df) <= 1781\n",
    "), f\"`df` should have no more than 1781 observations, not {len(df)}.\""
   ]
  },
  {
   "cell_type": "code",
   "execution_count": 6,
   "id": "69b29da9",
   "metadata": {
    "execution": {
     "iopub.execute_input": "2024-02-09T10:13:24.296132Z",
     "iopub.status.busy": "2024-02-09T10:13:24.295476Z",
     "iopub.status.idle": "2024-02-09T10:13:24.686439Z",
     "shell.execute_reply": "2024-02-09T10:13:24.684893Z"
    },
    "papermill": {
     "duration": 0.410349,
     "end_time": "2024-02-09T10:13:24.689407",
     "exception": false,
     "start_time": "2024-02-09T10:13:24.279058",
     "status": "completed"
    },
    "tags": []
   },
   "outputs": [
    {
     "data": {
      "image/png": "[encoded data removed]",
      "text/plain": [
       "<Figure size 640x480 with 1 Axes>"
      ]
     },
     "metadata": {},
     "output_type": "display_data"
    }
   ],
   "source": [
    "# Then explore the df by creating a histogram using matplotlib\n",
    "plt.hist(df[\"surface_covered_in_m2\"])\n",
    "plt.xlabel(\"Area [sq meters]\")\n",
    "plt.title(\"Distribution of Apartment Size\");"
   ]
  },
  {
   "cell_type": "markdown",
   "id": "a358b82b",
   "metadata": {
    "papermill": {
     "duration": 0.014849,
     "end_time": "2024-02-09T10:13:24.719431",
     "exception": false,
     "start_time": "2024-02-09T10:13:24.704582",
     "status": "completed"
    },
    "tags": []
   },
   "source": [
    "From my histogram, I realize there is a lot of outliers. I can further use describe method to further understand the nature of the outliers"
   ]
  },
  {
   "cell_type": "code",
   "execution_count": 7,
   "id": "3d579e0f",
   "metadata": {
    "execution": {
     "iopub.execute_input": "2024-02-09T10:13:24.752116Z",
     "iopub.status.busy": "2024-02-09T10:13:24.751724Z",
     "iopub.status.idle": "2024-02-09T10:13:24.765650Z",
     "shell.execute_reply": "2024-02-09T10:13:24.763998Z"
    },
    "papermill": {
     "duration": 0.033517,
     "end_time": "2024-02-09T10:13:24.768287",
     "exception": false,
     "start_time": "2024-02-09T10:13:24.734770",
     "status": "completed"
    },
    "tags": []
   },
   "outputs": [
    {
     "data": {
      "text/plain": [
       "count    1343.000000\n",
       "mean       55.076694\n",
       "std        18.160427\n",
       "min        31.000000\n",
       "25%        40.000000\n",
       "50%        50.000000\n",
       "75%        68.500000\n",
       "max       100.000000\n",
       "Name: surface_covered_in_m2, dtype: float64"
      ]
     },
     "execution_count": 7,
     "metadata": {},
     "output_type": "execute_result"
    }
   ],
   "source": [
    "df[\"surface_covered_in_m2\"].describe()"
   ]
  },
  {
   "cell_type": "markdown",
   "id": "c0379d2b",
   "metadata": {
    "papermill": {
     "duration": 0.015177,
     "end_time": "2024-02-09T10:13:24.799078",
     "exception": false,
     "start_time": "2024-02-09T10:13:24.783901",
     "status": "completed"
    },
    "tags": []
   },
   "source": [
    "Add to my wrangle function so that it removes observations that are outliers in the \"surface_covered_in_m2\" column. Specifically, all observations should fall between the 0.1 and 0.9 quantiles for \"surface_covered_in_m2\"."
   ]
  },
  {
   "cell_type": "code",
   "execution_count": 8,
   "id": "bfc81061",
   "metadata": {
    "execution": {
     "iopub.execute_input": "2024-02-09T10:13:24.833106Z",
     "iopub.status.busy": "2024-02-09T10:13:24.832710Z",
     "iopub.status.idle": "2024-02-09T10:13:24.837940Z",
     "shell.execute_reply": "2024-02-09T10:13:24.836477Z"
    },
    "papermill": {
     "duration": 0.02583,
     "end_time": "2024-02-09T10:13:24.840442",
     "exception": false,
     "start_time": "2024-02-09T10:13:24.814612",
     "status": "completed"
    },
    "tags": []
   },
   "outputs": [],
   "source": [
    "# Check my work\n",
    "assert len(df) <= 1343"
   ]
  },
  {
   "cell_type": "markdown",
   "id": "7cd2aa1c",
   "metadata": {
    "papermill": {
     "duration": 0.015631,
     "end_time": "2024-02-09T10:13:24.872286",
     "exception": false,
     "start_time": "2024-02-09T10:13:24.856655",
     "status": "completed"
    },
    "tags": []
   },
   "source": [
    "Create a scatter plot that shows price (\"price_aprox_usd\") vs area (\"surface_covered_in_m2\") in our dataset. Make sure to label your x-axis \"Area [sq meters]\" and your y-axis \"Price [USD]\"."
   ]
  },
  {
   "cell_type": "code",
   "execution_count": 9,
   "id": "c4ea3dca",
   "metadata": {
    "execution": {
     "iopub.execute_input": "2024-02-09T10:13:24.906711Z",
     "iopub.status.busy": "2024-02-09T10:13:24.906201Z",
     "iopub.status.idle": "2024-02-09T10:13:25.248545Z",
     "shell.execute_reply": "2024-02-09T10:13:25.247099Z"
    },
    "papermill": {
     "duration": 0.362693,
     "end_time": "2024-02-09T10:13:25.251259",
     "exception": false,
     "start_time": "2024-02-09T10:13:24.888566",
     "status": "completed"
    },
    "tags": []
   },
   "outputs": [
    {
     "data": {
      "image/png": "[encoded data removed]",
      "text/plain": [
       "<Figure size 640x480 with 1 Axes>"
      ]
     },
     "metadata": {},
     "output_type": "display_data"
    }
   ],
   "source": [
    "plt.scatter(x=df[\"surface_covered_in_m2\"], y=df[\"price_aprox_usd\"])\n",
    "plt.xlabel(\"Area [sq meters]\")\n",
    "plt.ylabel(\"Price [USD]\")\n",
    "plt.title(\"Buenos Aires: Price vs Area\");"
   ]
  },
  {
   "cell_type": "markdown",
   "id": "b73f238b",
   "metadata": {
    "papermill": {
     "duration": 0.016962,
     "end_time": "2024-02-09T10:13:25.284526",
     "exception": false,
     "start_time": "2024-02-09T10:13:25.267564",
     "status": "completed"
    },
    "tags": []
   },
   "source": [
    "This plot suggests that there's a moderate positive correlation between apartment price and size. This means that if thing we want to predict is price, size will be a good feature to include."
   ]
  },
  {
   "cell_type": "markdown",
   "id": "3b5b4861",
   "metadata": {
    "papermill": {
     "duration": 0.016215,
     "end_time": "2024-02-09T10:13:25.317184",
     "exception": false,
     "start_time": "2024-02-09T10:13:25.300969",
     "status": "completed"
    },
    "tags": []
   },
   "source": [
    "I will use **(Split).**\n",
    "A key part in any model-building project is separating my target (the thing I want to predict) from my features (the information my model will use to make its predictions). Since this is our first model, I'll use just one feature: apartment size."
   ]
  },
  {
   "cell_type": "markdown",
   "id": "031b4e67",
   "metadata": {
    "papermill": {
     "duration": 0.017055,
     "end_time": "2024-02-09T10:13:25.352236",
     "exception": false,
     "start_time": "2024-02-09T10:13:25.335181",
     "status": "completed"
    },
    "tags": []
   },
   "source": [
    "Create the feature matrix named X_train, which I'll use to train my model. It should contain one feature only: [\"surface_covered_in_m2\"]. Remember that my feature matrix should always be two-dimensional."
   ]
  },
  {
   "cell_type": "code",
   "execution_count": 10,
   "id": "2787201e",
   "metadata": {
    "execution": {
     "iopub.execute_input": "2024-02-09T10:13:25.387107Z",
     "iopub.status.busy": "2024-02-09T10:13:25.386719Z",
     "iopub.status.idle": "2024-02-09T10:13:25.401465Z",
     "shell.execute_reply": "2024-02-09T10:13:25.399925Z"
    },
    "papermill": {
     "duration": 0.035339,
     "end_time": "2024-02-09T10:13:25.403926",
     "exception": false,
     "start_time": "2024-02-09T10:13:25.368587",
     "status": "completed"
    },
    "tags": []
   },
   "outputs": [
    {
     "data": {
      "text/html": [
       "<div>\n",
       "<style scoped>\n",
       "    .dataframe tbody tr th:only-of-type {\n",
       "        vertical-align: middle;\n",
       "    }\n",
       "\n",
       "    .dataframe tbody tr th {\n",
       "        vertical-align: top;\n",
       "    }\n",
       "\n",
       "    .dataframe thead th {\n",
       "        text-align: right;\n",
       "    }\n",
       "</style>\n",
       "<table border=\"1\" class=\"dataframe\">\n",
       "  <thead>\n",
       "    <tr style=\"text-align: right;\">\n",
       "      <th></th>\n",
       "      <th>surface_covered_in_m2</th>\n",
       "    </tr>\n",
       "  </thead>\n",
       "  <tbody>\n",
       "    <tr>\n",
       "      <th>4</th>\n",
       "      <td>70.0</td>\n",
       "    </tr>\n",
       "    <tr>\n",
       "      <th>9</th>\n",
       "      <td>42.0</td>\n",
       "    </tr>\n",
       "    <tr>\n",
       "      <th>29</th>\n",
       "      <td>54.0</td>\n",
       "    </tr>\n",
       "    <tr>\n",
       "      <th>40</th>\n",
       "      <td>42.0</td>\n",
       "    </tr>\n",
       "    <tr>\n",
       "      <th>41</th>\n",
       "      <td>50.0</td>\n",
       "    </tr>\n",
       "  </tbody>\n",
       "</table>\n",
       "</div>"
      ],
      "text/plain": [
       "    surface_covered_in_m2\n",
       "4                    70.0\n",
       "9                    42.0\n",
       "29                   54.0\n",
       "40                   42.0\n",
       "41                   50.0"
      ]
     },
     "execution_count": 10,
     "metadata": {},
     "output_type": "execute_result"
    }
   ],
   "source": [
    "# Split Data: Feature Matrix\n",
    "features = [\"surface_covered_in_m2\"]\n",
    "X_train = df[features]\n",
    "X_train.head()"
   ]
  },
  {
   "cell_type": "markdown",
   "id": "7052cdd1",
   "metadata": {
    "papermill": {
     "duration": 0.016266,
     "end_time": "2024-02-09T10:13:25.437064",
     "exception": false,
     "start_time": "2024-02-09T10:13:25.420798",
     "status": "completed"
    },
    "tags": []
   },
   "source": []
  },
  {
   "cell_type": "code",
   "execution_count": 11,
   "id": "82509e58",
   "metadata": {
    "execution": {
     "iopub.execute_input": "2024-02-09T10:13:25.472859Z",
     "iopub.status.busy": "2024-02-09T10:13:25.472315Z",
     "iopub.status.idle": "2024-02-09T10:13:25.478847Z",
     "shell.execute_reply": "2024-02-09T10:13:25.477294Z"
    },
    "papermill": {
     "duration": 0.027677,
     "end_time": "2024-02-09T10:13:25.481493",
     "exception": false,
     "start_time": "2024-02-09T10:13:25.453816",
     "status": "completed"
    },
    "tags": []
   },
   "outputs": [],
   "source": [
    "# Check your work\n",
    "assert X_train.shape == (\n",
    "    1343,\n",
    "    1,\n",
    "), f\"The shape of `X_train` should be (1343, 1), not {X_train.shape}.\""
   ]
  },
  {
   "cell_type": "code",
   "execution_count": 12,
   "id": "a3c4a41f",
   "metadata": {
    "execution": {
     "iopub.execute_input": "2024-02-09T10:13:25.579181Z",
     "iopub.status.busy": "2024-02-09T10:13:25.578610Z",
     "iopub.status.idle": "2024-02-09T10:13:25.586587Z",
     "shell.execute_reply": "2024-02-09T10:13:25.585567Z"
    },
    "papermill": {
     "duration": 0.02907,
     "end_time": "2024-02-09T10:13:25.589320",
     "exception": false,
     "start_time": "2024-02-09T10:13:25.560250",
     "status": "completed"
    },
    "tags": []
   },
   "outputs": [
    {
     "data": {
      "text/plain": [
       "(1343,)"
      ]
     },
     "execution_count": 12,
     "metadata": {},
     "output_type": "execute_result"
    }
   ],
   "source": [
    "# Split Data: Target Vector. My `Target Vector` is `price_aprox_usd`\n",
    "target = \"price_aprox_usd\"\n",
    "y_train = df[target]\n",
    "y_train.shape"
   ]
  },
  {
   "cell_type": "code",
   "execution_count": 13,
   "id": "eb4f9614",
   "metadata": {
    "execution": {
     "iopub.execute_input": "2024-02-09T10:13:25.630554Z",
     "iopub.status.busy": "2024-02-09T10:13:25.630172Z",
     "iopub.status.idle": "2024-02-09T10:13:25.635278Z",
     "shell.execute_reply": "2024-02-09T10:13:25.633921Z"
    },
    "papermill": {
     "duration": 0.029484,
     "end_time": "2024-02-09T10:13:25.638071",
     "exception": false,
     "start_time": "2024-02-09T10:13:25.608587",
     "status": "completed"
    },
    "tags": []
   },
   "outputs": [],
   "source": [
    "# Check your work\n",
    "assert y_train.shape == (1343,)"
   ]
  },
  {
   "cell_type": "markdown",
   "id": "878cf0d2",
   "metadata": {
    "papermill": {
     "duration": 0.017778,
     "end_time": "2024-02-09T10:13:25.674632",
     "exception": false,
     "start_time": "2024-02-09T10:13:25.656854",
     "status": "completed"
    },
    "tags": []
   },
   "source": [
    "**Building my model**"
   ]
  },
  {
   "cell_type": "code",
   "execution_count": 14,
   "id": "09741c69",
   "metadata": {
    "execution": {
     "iopub.execute_input": "2024-02-09T10:13:25.713502Z",
     "iopub.status.busy": "2024-02-09T10:13:25.713073Z",
     "iopub.status.idle": "2024-02-09T10:13:25.721627Z",
     "shell.execute_reply": "2024-02-09T10:13:25.720326Z"
    },
    "papermill": {
     "duration": 0.032268,
     "end_time": "2024-02-09T10:13:25.724501",
     "exception": false,
     "start_time": "2024-02-09T10:13:25.692233",
     "status": "completed"
    },
    "tags": []
   },
   "outputs": [
    {
     "data": {
      "text/plain": [
       "135527.83871928515"
      ]
     },
     "execution_count": 14,
     "metadata": {},
     "output_type": "execute_result"
    }
   ],
   "source": [
    "# The first process is baseline ( calculate the mean)\n",
    "#Calculate the mean of your target vector y_train and assign it to the variable y_mean\n",
    "y_mean = y_train.mean()\n",
    "y_mean\n"
   ]
  },
  {
   "cell_type": "markdown",
   "id": "68e7d777",
   "metadata": {
    "papermill": {
     "duration": 0.018769,
     "end_time": "2024-02-09T10:13:25.761734",
     "exception": false,
     "start_time": "2024-02-09T10:13:25.742965",
     "status": "completed"
    },
    "tags": []
   },
   "source": [
    "Create a list named y_pred_baseline that contains the value of y_mean repeated so that it's the same length at y."
   ]
  },
  {
   "cell_type": "code",
   "execution_count": 15,
   "id": "6b7d528a",
   "metadata": {
    "execution": {
     "iopub.execute_input": "2024-02-09T10:13:25.802798Z",
     "iopub.status.busy": "2024-02-09T10:13:25.802258Z",
     "iopub.status.idle": "2024-02-09T10:13:25.810093Z",
     "shell.execute_reply": "2024-02-09T10:13:25.809140Z"
    },
    "papermill": {
     "duration": 0.031263,
     "end_time": "2024-02-09T10:13:25.812621",
     "exception": false,
     "start_time": "2024-02-09T10:13:25.781358",
     "status": "completed"
    },
    "tags": []
   },
   "outputs": [
    {
     "data": {
      "text/plain": [
       "[135527.83871928515,\n",
       " 135527.83871928515,\n",
       " 135527.83871928515,\n",
       " 135527.83871928515,\n",
       " 135527.83871928515]"
      ]
     },
     "execution_count": 15,
     "metadata": {},
     "output_type": "execute_result"
    }
   ],
   "source": [
    "y_pred_baseline = [y_mean] * len(y_train)\n",
    "y_pred_baseline[:5]"
   ]
  },
  {
   "cell_type": "markdown",
   "id": "4ef08c75",
   "metadata": {
    "papermill": {
     "duration": 0.016874,
     "end_time": "2024-02-09T10:13:25.847398",
     "exception": false,
     "start_time": "2024-02-09T10:13:25.830524",
     "status": "completed"
    },
    "tags": []
   },
   "source": [
    "Add a line to the plot below that shows the relationship between the observations X_train and our dumb model's predictions y_pred_baseline. Be sure that the line color is orange, and that it has the label \"Baseline Model\"."
   ]
  },
  {
   "cell_type": "code",
   "execution_count": 16,
   "id": "f7d6eddb",
   "metadata": {
    "execution": {
     "iopub.execute_input": "2024-02-09T10:13:25.885247Z",
     "iopub.status.busy": "2024-02-09T10:13:25.884738Z",
     "iopub.status.idle": "2024-02-09T10:13:26.327745Z",
     "shell.execute_reply": "2024-02-09T10:13:26.325808Z"
    },
    "papermill": {
     "duration": 0.467941,
     "end_time": "2024-02-09T10:13:26.332865",
     "exception": false,
     "start_time": "2024-02-09T10:13:25.864924",
     "status": "completed"
    },
    "tags": []
   },
   "outputs": [
    {
     "data": {
      "image/png": "[encoded data removed]",
      "text/plain": [
       "<Figure size 640x480 with 1 Axes>"
      ]
     },
     "metadata": {},
     "output_type": "display_data"
    }
   ],
   "source": [
    "plt.plot(X_train.values, y_pred_baseline, color=\"red\", label= \"Baseline Model\")\n",
    "plt.scatter(X_train, y_train)\n",
    "plt.xlabel(\"Area [sq meters]\")\n",
    "plt.ylabel(\"Price [USD]\")\n",
    "plt.title(\"Buenos Aires: Price vs. Area\")\n",
    "plt.legend();"
   ]
  },
  {
   "cell_type": "markdown",
   "id": "5cb58ef7",
   "metadata": {
    "papermill": {
     "duration": 0.021396,
     "end_time": "2024-02-09T10:13:26.379784",
     "exception": false,
     "start_time": "2024-02-09T10:13:26.358388",
     "status": "completed"
    },
    "tags": []
   },
   "source": [
    "My baseline model doesn't really follow the trend in the data. I will have to use mean absolute error"
   ]
  },
  {
   "cell_type": "markdown",
   "id": "13db56bd",
   "metadata": {
    "papermill": {
     "duration": 0.018185,
     "end_time": "2024-02-09T10:13:26.417397",
     "exception": false,
     "start_time": "2024-02-09T10:13:26.399212",
     "status": "completed"
    },
    "tags": []
   },
   "source": [
    "Calculate the baseline mean absolute error for your predictions in y_pred_baseline as compared to the true targets in y."
   ]
  },
  {
   "cell_type": "code",
   "execution_count": 17,
   "id": "5d87a535",
   "metadata": {
    "execution": {
     "iopub.execute_input": "2024-02-09T10:13:26.457924Z",
     "iopub.status.busy": "2024-02-09T10:13:26.456118Z",
     "iopub.status.idle": "2024-02-09T10:13:26.469445Z",
     "shell.execute_reply": "2024-02-09T10:13:26.467375Z"
    },
    "papermill": {
     "duration": 0.039695,
     "end_time": "2024-02-09T10:13:26.475590",
     "exception": false,
     "start_time": "2024-02-09T10:13:26.435895",
     "status": "completed"
    },
    "tags": []
   },
   "outputs": [
    {
     "name": "stdout",
     "output_type": "stream",
     "text": [
      "Mean apt price 135527.84\n",
      "Baseline MAE: 45199.46\n"
     ]
    }
   ],
   "source": [
    "mae_baseline = mean_absolute_error(y_train, y_pred_baseline)\n",
    "\n",
    "print(\"Mean apt price\", round(y_mean, 2))\n",
    "print(\"Baseline MAE:\", round(mae_baseline, 2))"
   ]
  },
  {
   "cell_type": "markdown",
   "id": "90ec6175",
   "metadata": {
    "papermill": {
     "duration": 0.022372,
     "end_time": "2024-02-09T10:13:26.519427",
     "exception": false,
     "start_time": "2024-02-09T10:13:26.497055",
     "status": "completed"
    },
    "tags": []
   },
   "source": [
    "**Iterate**"
   ]
  },
  {
   "cell_type": "code",
   "execution_count": 18,
   "id": "37de92a5",
   "metadata": {
    "execution": {
     "iopub.execute_input": "2024-02-09T10:13:26.567487Z",
     "iopub.status.busy": "2024-02-09T10:13:26.566924Z",
     "iopub.status.idle": "2024-02-09T10:13:26.572911Z",
     "shell.execute_reply": "2024-02-09T10:13:26.571696Z"
    },
    "papermill": {
     "duration": 0.032514,
     "end_time": "2024-02-09T10:13:26.575376",
     "exception": false,
     "start_time": "2024-02-09T10:13:26.542862",
     "status": "completed"
    },
    "tags": []
   },
   "outputs": [],
   "source": [
    "# Instantiate Model\n",
    "model = LinearRegression()"
   ]
  },
  {
   "cell_type": "code",
   "execution_count": 19,
   "id": "f753808c",
   "metadata": {
    "execution": {
     "iopub.execute_input": "2024-02-09T10:13:26.624712Z",
     "iopub.status.busy": "2024-02-09T10:13:26.623906Z",
     "iopub.status.idle": "2024-02-09T10:13:26.628906Z",
     "shell.execute_reply": "2024-02-09T10:13:26.627958Z"
    },
    "papermill": {
     "duration": 0.030426,
     "end_time": "2024-02-09T10:13:26.631306",
     "exception": false,
     "start_time": "2024-02-09T10:13:26.600880",
     "status": "completed"
    },
    "tags": []
   },
   "outputs": [],
   "source": [
    "# Check your work\n",
    "assert isinstance(model, LinearRegression)"
   ]
  },
  {
   "cell_type": "code",
   "execution_count": 20,
   "id": "194d7b03",
   "metadata": {
    "execution": {
     "iopub.execute_input": "2024-02-09T10:13:26.670550Z",
     "iopub.status.busy": "2024-02-09T10:13:26.669791Z",
     "iopub.status.idle": "2024-02-09T10:13:26.697540Z",
     "shell.execute_reply": "2024-02-09T10:13:26.696037Z"
    },
    "papermill": {
     "duration": 0.050462,
     "end_time": "2024-02-09T10:13:26.700215",
     "exception": false,
     "start_time": "2024-02-09T10:13:26.649753",
     "status": "completed"
    },
    "tags": []
   },
   "outputs": [
    {
     "data": {
      "text/html": [
       "<style>#sk-container-id-1 {color: black;background-color: white;}#sk-container-id-1 pre{padding: 0;}#sk-container-id-1 div.sk-toggleable {background-color: white;}#sk-container-id-1 label.sk-toggleable__label {cursor: pointer;display: block;width: 100%;margin-bottom: 0;padding: 0.3em;box-sizing: border-box;text-align: center;}#sk-container-id-1 label.sk-toggleable__label-arrow:before {content: \"▸\";float: left;margin-right: 0.25em;color: #696969;}#sk-container-id-1 label.sk-toggleable__label-arrow:hover:before {color: black;}#sk-container-id-1 div.sk-estimator:hover label.sk-toggleable__label-arrow:before {color: black;}#sk-container-id-1 div.sk-toggleable__content {max-height: 0;max-width: 0;overflow: hidden;text-align: left;background-color: #f0f8ff;}#sk-container-id-1 div.sk-toggleable__content pre {margin: 0.2em;color: black;border-radius: 0.25em;background-color: #f0f8ff;}#sk-container-id-1 input.sk-toggleable__control:checked~div.sk-toggleable__content {max-height: 200px;max-width: 100%;overflow: auto;}#sk-container-id-1 input.sk-toggleable__control:checked~label.sk-toggleable__label-arrow:before {content: \"▾\";}#sk-container-id-1 div.sk-estimator input.sk-toggleable__control:checked~label.sk-toggleable__label {background-color: #d4ebff;}#sk-container-id-1 div.sk-label input.sk-toggleable__control:checked~label.sk-toggleable__label {background-color: #d4ebff;}#sk-container-id-1 input.sk-hidden--visually {border: 0;clip: rect(1px 1px 1px 1px);clip: rect(1px, 1px, 1px, 1px);height: 1px;margin: -1px;overflow: hidden;padding: 0;position: absolute;width: 1px;}#sk-container-id-1 div.sk-estimator {font-family: monospace;background-color: #f0f8ff;border: 1px dotted black;border-radius: 0.25em;box-sizing: border-box;margin-bottom: 0.5em;}#sk-container-id-1 div.sk-estimator:hover {background-color: #d4ebff;}#sk-container-id-1 div.sk-parallel-item::after {content: \"\";width: 100%;border-bottom: 1px solid gray;flex-grow: 1;}#sk-container-id-1 div.sk-label:hover label.sk-toggleable__label {background-color: #d4ebff;}#sk-container-id-1 div.sk-serial::before {content: \"\";position: absolute;border-left: 1px solid gray;box-sizing: border-box;top: 0;bottom: 0;left: 50%;z-index: 0;}#sk-container-id-1 div.sk-serial {display: flex;flex-direction: column;align-items: center;background-color: white;padding-right: 0.2em;padding-left: 0.2em;position: relative;}#sk-container-id-1 div.sk-item {position: relative;z-index: 1;}#sk-container-id-1 div.sk-parallel {display: flex;align-items: stretch;justify-content: center;background-color: white;position: relative;}#sk-container-id-1 div.sk-item::before, #sk-container-id-1 div.sk-parallel-item::before {content: \"\";position: absolute;border-left: 1px solid gray;box-sizing: border-box;top: 0;bottom: 0;left: 50%;z-index: -1;}#sk-container-id-1 div.sk-parallel-item {display: flex;flex-direction: column;z-index: 1;position: relative;background-color: white;}#sk-container-id-1 div.sk-parallel-item:first-child::after {align-self: flex-end;width: 50%;}#sk-container-id-1 div.sk-parallel-item:last-child::after {align-self: flex-start;width: 50%;}#sk-container-id-1 div.sk-parallel-item:only-child::after {width: 0;}#sk-container-id-1 div.sk-dashed-wrapped {border: 1px dashed gray;margin: 0 0.4em 0.5em 0.4em;box-sizing: border-box;padding-bottom: 0.4em;background-color: white;}#sk-container-id-1 div.sk-label label {font-family: monospace;font-weight: bold;display: inline-block;line-height: 1.2em;}#sk-container-id-1 div.sk-label-container {text-align: center;}#sk-container-id-1 div.sk-container {/* jupyter's `normalize.less` sets `[hidden] { display: none; }` but bootstrap.min.css set `[hidden] { display: none !important; }` so we also need the `!important` here to be able to override the default hidden behavior on the sphinx rendered scikit-learn.org. See: https://github.com/scikit-learn/scikit-learn/issues/21755 */display: inline-block !important;position: relative;}#sk-container-id-1 div.sk-text-repr-fallback {display: none;}</style><div id=\"sk-container-id-1\" class=\"sk-top-container\"><div class=\"sk-text-repr-fallback\"><pre>LinearRegression()</pre><b>In a Jupyter environment, please rerun this cell to show the HTML representation or trust the notebook. <br />On GitHub, the HTML representation is unable to render, please try loading this page with nbviewer.org.</b></div><div class=\"sk-container\" hidden><div class=\"sk-item\"><div class=\"sk-estimator sk-toggleable\"><input class=\"sk-toggleable__control sk-hidden--visually\" id=\"sk-estimator-id-1\" type=\"checkbox\" checked><label for=\"sk-estimator-id-1\" class=\"sk-toggleable__label sk-toggleable__label-arrow\">LinearRegression</label><div class=\"sk-toggleable__content\"><pre>LinearRegression()</pre></div></div></div></div></div>"
      ],
      "text/plain": [
       "LinearRegression()"
      ]
     },
     "execution_count": 20,
     "metadata": {},
     "output_type": "execute_result"
    }
   ],
   "source": [
    "# Fit your model to the data, X_train and y_train\n",
    "model.fit(X_train, y_train)"
   ]
  },
  {
   "cell_type": "code",
   "execution_count": 21,
   "id": "2a089434",
   "metadata": {
    "execution": {
     "iopub.execute_input": "2024-02-09T10:13:26.743819Z",
     "iopub.status.busy": "2024-02-09T10:13:26.743341Z",
     "iopub.status.idle": "2024-02-09T10:13:26.748513Z",
     "shell.execute_reply": "2024-02-09T10:13:26.747296Z"
    },
    "papermill": {
     "duration": 0.031995,
     "end_time": "2024-02-09T10:13:26.751467",
     "exception": false,
     "start_time": "2024-02-09T10:13:26.719472",
     "status": "completed"
    },
    "tags": []
   },
   "outputs": [],
   "source": [
    "# Check your work\n",
    "check_is_fitted(model)"
   ]
  },
  {
   "cell_type": "markdown",
   "id": "be88a6b6",
   "metadata": {
    "papermill": {
     "duration": 0.019486,
     "end_time": "2024-02-09T10:13:26.793381",
     "exception": false,
     "start_time": "2024-02-09T10:13:26.773895",
     "status": "completed"
    },
    "tags": []
   },
   "source": [
    "**Evaluate**"
   ]
  },
  {
   "cell_type": "code",
   "execution_count": 22,
   "id": "774fd146",
   "metadata": {
    "execution": {
     "iopub.execute_input": "2024-02-09T10:13:26.835568Z",
     "iopub.status.busy": "2024-02-09T10:13:26.834787Z",
     "iopub.status.idle": "2024-02-09T10:13:26.844313Z",
     "shell.execute_reply": "2024-02-09T10:13:26.843136Z"
    },
    "papermill": {
     "duration": 0.032119,
     "end_time": "2024-02-09T10:13:26.846642",
     "exception": false,
     "start_time": "2024-02-09T10:13:26.814523",
     "status": "completed"
    },
    "tags": []
   },
   "outputs": [
    {
     "data": {
      "text/plain": [
       "array([169151.87330223, 106064.44707446, 133101.91545779, 106064.44707446,\n",
       "       124089.42599668])"
      ]
     },
     "execution_count": 22,
     "metadata": {},
     "output_type": "execute_result"
    }
   ],
   "source": [
    "# Generate predictions using a trained model in scikit-learn.\n",
    "y_pred_training = model.predict(X_train)\n",
    "y_pred_training[:5]"
   ]
  },
  {
   "cell_type": "code",
   "execution_count": 23,
   "id": "8382cb1f",
   "metadata": {
    "execution": {
     "iopub.execute_input": "2024-02-09T10:13:26.886533Z",
     "iopub.status.busy": "2024-02-09T10:13:26.885739Z",
     "iopub.status.idle": "2024-02-09T10:13:26.890980Z",
     "shell.execute_reply": "2024-02-09T10:13:26.890101Z"
    },
    "papermill": {
     "duration": 0.028175,
     "end_time": "2024-02-09T10:13:26.893533",
     "exception": false,
     "start_time": "2024-02-09T10:13:26.865358",
     "status": "completed"
    },
    "tags": []
   },
   "outputs": [],
   "source": [
    "# Check your work\n",
    "assert (\n",
    "    len(y_pred_training) == 1343\n",
    "), f\"There should be 1343 predictions in `y_pred_training`, not {len(y_pred_training)}.\""
   ]
  },
  {
   "cell_type": "markdown",
   "id": "06207f39",
   "metadata": {
    "papermill": {
     "duration": 0.01866,
     "end_time": "2024-02-09T10:13:26.931023",
     "exception": false,
     "start_time": "2024-02-09T10:13:26.912363",
     "status": "completed"
    },
    "tags": []
   },
   "source": [
    "Calculate your training mean absolute error for your predictions in y_pred_training as compared to the true targets in y_train.\n",
    "\n",
    "Calculate the mean absolute error for a list of predictions in scikit-learn."
   ]
  },
  {
   "cell_type": "code",
   "execution_count": 24,
   "id": "7fd970e4",
   "metadata": {
    "execution": {
     "iopub.execute_input": "2024-02-09T10:13:26.970089Z",
     "iopub.status.busy": "2024-02-09T10:13:26.969728Z",
     "iopub.status.idle": "2024-02-09T10:13:26.978943Z",
     "shell.execute_reply": "2024-02-09T10:13:26.976977Z"
    },
    "papermill": {
     "duration": 0.031715,
     "end_time": "2024-02-09T10:13:26.981530",
     "exception": false,
     "start_time": "2024-02-09T10:13:26.949815",
     "status": "completed"
    },
    "tags": []
   },
   "outputs": [
    {
     "name": "stdout",
     "output_type": "stream",
     "text": [
      "Training MAE: 31248.26\n"
     ]
    }
   ],
   "source": [
    "mae_training = mean_absolute_error(y_train, y_pred_training)\n",
    "print(\"Training MAE:\", round(mae_training, 2))"
   ]
  },
  {
   "cell_type": "markdown",
   "id": "bba6d7b7",
   "metadata": {
    "execution": {
     "iopub.execute_input": "2024-02-09T10:01:25.075528Z",
     "iopub.status.busy": "2024-02-09T10:01:25.074987Z",
     "iopub.status.idle": "2024-02-09T10:01:25.288332Z",
     "shell.execute_reply": "2024-02-09T10:01:25.286249Z",
     "shell.execute_reply.started": "2024-02-09T10:01:25.075495Z"
    },
    "papermill": {
     "duration": 0.019409,
     "end_time": "2024-02-09T10:13:27.020053",
     "exception": false,
     "start_time": "2024-02-09T10:13:27.000644",
     "status": "completed"
    },
    "tags": []
   },
   "source": [
    "**Communicating my results**"
   ]
  },
  {
   "cell_type": "code",
   "execution_count": 25,
   "id": "a2de6a07",
   "metadata": {
    "execution": {
     "iopub.execute_input": "2024-02-09T10:13:27.060351Z",
     "iopub.status.busy": "2024-02-09T10:13:27.059885Z",
     "iopub.status.idle": "2024-02-09T10:13:27.066697Z",
     "shell.execute_reply": "2024-02-09T10:13:27.065553Z"
    },
    "papermill": {
     "duration": 0.030185,
     "end_time": "2024-02-09T10:13:27.069637",
     "exception": false,
     "start_time": "2024-02-09T10:13:27.039452",
     "status": "completed"
    },
    "tags": []
   },
   "outputs": [
    {
     "name": "stdout",
     "output_type": "stream",
     "text": [
      "Model Intercept: 11433.31\n"
     ]
    }
   ],
   "source": [
    "# Extract the intercept from my model, and assign it to the variable intercept.\n",
    "intercept = round(model.intercept_, 2)\n",
    "print(\"Model Intercept:\", intercept)\n",
    "assert any([isinstance(intercept, int), isinstance(intercept, float)])"
   ]
  },
  {
   "cell_type": "markdown",
   "id": "336f7f23",
   "metadata": {
    "papermill": {
     "duration": 0.018694,
     "end_time": "2024-02-09T10:13:27.107289",
     "exception": false,
     "start_time": "2024-02-09T10:13:27.088595",
     "status": "completed"
    },
    "tags": []
   },
   "source": [
    "Extract the coefficient associated \"surface_covered_in_m2\" in your model, and assign it to the variable coefficient."
   ]
  },
  {
   "cell_type": "code",
   "execution_count": 26,
   "id": "9feec991",
   "metadata": {
    "execution": {
     "iopub.execute_input": "2024-02-09T10:13:27.148319Z",
     "iopub.status.busy": "2024-02-09T10:13:27.147907Z",
     "iopub.status.idle": "2024-02-09T10:13:27.154489Z",
     "shell.execute_reply": "2024-02-09T10:13:27.153346Z"
    },
    "papermill": {
     "duration": 0.030658,
     "end_time": "2024-02-09T10:13:27.157203",
     "exception": false,
     "start_time": "2024-02-09T10:13:27.126545",
     "status": "completed"
    },
    "tags": []
   },
   "outputs": [
    {
     "name": "stdout",
     "output_type": "stream",
     "text": [
      "Model coefficient for \"surface_covered_in_m2\": 2253.12\n"
     ]
    }
   ],
   "source": [
    "coefficient = round(model.coef_[0], 2)\n",
    "print('Model coefficient for \"surface_covered_in_m2\":', coefficient)\n",
    "assert any([isinstance(coefficient, int), isinstance(coefficient, float)])"
   ]
  },
  {
   "cell_type": "markdown",
   "id": "ba3d95bb",
   "metadata": {
    "papermill": {
     "duration": 0.019227,
     "end_time": "2024-02-09T10:13:27.195533",
     "exception": false,
     "start_time": "2024-02-09T10:13:27.176306",
     "status": "completed"
    },
    "tags": []
   },
   "source": [
    "Complete the code below and run the cell to print the equation that your model has determined for predicting apartment price based on size."
   ]
  },
  {
   "cell_type": "code",
   "execution_count": 27,
   "id": "72b31ed0",
   "metadata": {
    "execution": {
     "iopub.execute_input": "2024-02-09T10:13:27.238011Z",
     "iopub.status.busy": "2024-02-09T10:13:27.237158Z",
     "iopub.status.idle": "2024-02-09T10:13:27.244039Z",
     "shell.execute_reply": "2024-02-09T10:13:27.242545Z"
    },
    "papermill": {
     "duration": 0.031506,
     "end_time": "2024-02-09T10:13:27.246425",
     "exception": false,
     "start_time": "2024-02-09T10:13:27.214919",
     "status": "completed"
    },
    "tags": []
   },
   "outputs": [
    {
     "name": "stdout",
     "output_type": "stream",
     "text": [
      "apt_price = 11433.31 + 2253.12 * surface_covered\n"
     ]
    }
   ],
   "source": [
    "print(f\"apt_price = {intercept} + {coefficient} * surface_covered\")"
   ]
  },
  {
   "cell_type": "markdown",
   "id": "d2c0159d",
   "metadata": {
    "papermill": {
     "duration": 0.019074,
     "end_time": "2024-02-09T10:13:27.284899",
     "exception": false,
     "start_time": "2024-02-09T10:13:27.265825",
     "status": "completed"
    },
    "tags": []
   },
   "source": [
    "Add a line to the plot below that shows the relationship between the observations in X_train and my model's predictions y_pred_training. Be sure that the line color is red, and that it has the label \"Linear Model\""
   ]
  },
  {
   "cell_type": "code",
   "execution_count": 28,
   "id": "fc24e9b3",
   "metadata": {
    "execution": {
     "iopub.execute_input": "2024-02-09T10:13:27.327119Z",
     "iopub.status.busy": "2024-02-09T10:13:27.326389Z",
     "iopub.status.idle": "2024-02-09T10:13:27.654332Z",
     "shell.execute_reply": "2024-02-09T10:13:27.653182Z"
    },
    "papermill": {
     "duration": 0.353128,
     "end_time": "2024-02-09T10:13:27.657498",
     "exception": false,
     "start_time": "2024-02-09T10:13:27.304370",
     "status": "completed"
    },
    "tags": []
   },
   "outputs": [
    {
     "data": {
      "image/png": "[encoded data removed]",
      "text/plain": [
       "<Figure size 640x480 with 1 Axes>"
      ]
     },
     "metadata": {},
     "output_type": "display_data"
    }
   ],
   "source": [
    "plt.plot(X_train.values, model.predict(X_train), color='red', label='Linear Model')\n",
    "plt.scatter(X_train, y_train)\n",
    "plt.xlabel(\"surface covered [sq meters]\")\n",
    "plt.ylabel(\"price [usd]\")\n",
    "plt.legend();"
   ]
  },
  {
   "cell_type": "code",
   "execution_count": null,
   "id": "f09ae40d",
   "metadata": {
    "papermill": {
     "duration": 0.020836,
     "end_time": "2024-02-09T10:13:27.699950",
     "exception": false,
     "start_time": "2024-02-09T10:13:27.679114",
     "status": "completed"
    },
    "tags": []
   },
   "outputs": [],
   "source": []
  }
 ],
 "metadata": {
  "kaggle": {
   "accelerator": "none",
   "dataSources": [
    {
     "datasetId": 4420372,
     "sourceId": 7594374,
     "sourceType": "datasetVersion"
    }
   ],
   "dockerImageVersionId": 30646,
   "isGpuEnabled": false,
   "isInternetEnabled": true,
   "language": "python",
   "sourceType": "notebook"
  },
  "kernelspec": {
   "display_name": "Python 3",
   "language": "python",
   "name": "python3"
  },
  "language_info": {
   "codemirror_mode": {
    "name": "ipython",
    "version": 3
   },
   "file_extension": ".py",
   "mimetype": "text/x-python",
   "name": "python",
   "nbconvert_exporter": "python",
   "pygments_lexer": "ipython3",
   "version": "3.10.13"
  },
  "papermill": {
   "default_parameters": {},
   "duration": 10.277668,
   "end_time": "2024-02-09T10:13:28.347487",
   "environment_variables": {},
   "exception": null,
   "input_path": "__notebook__.ipynb",
   "output_path": "__notebook__.ipynb",
   "parameters": {},
   "start_time": "2024-02-09T10:13:18.069819",
   "version": "2.5.0"
  }
 },
 "nbformat": 4,
 "nbformat_minor": 5
}
